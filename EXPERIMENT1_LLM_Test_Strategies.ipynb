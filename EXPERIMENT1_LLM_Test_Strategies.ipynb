{
 "cells": [
  {
   "cell_type": "markdown",
   "metadata": {},
   "source": [
    "# Experiment 1 - Run Trading Strategies By Prompt Version and Risk Configuration"
   ]
  },
  {
   "cell_type": "markdown",
   "metadata": {},
   "source": [
    "This notebook runs every prompt configuration created during this research."
   ]
  },
  {
   "cell_type": "code",
   "execution_count": null,
   "metadata": {
    "execution": {
     "iopub.execute_input": "2024-09-23T14:39:13.829574Z",
     "iopub.status.busy": "2024-09-23T14:39:13.829218Z",
     "iopub.status.idle": "2024-09-23T14:39:14.190909Z",
     "shell.execute_reply": "2024-09-23T14:39:14.189908Z",
     "shell.execute_reply.started": "2024-09-23T14:39:13.829533Z"
    },
    "papermill": {
     "duration": 0.761376,
     "end_time": "2024-09-17T19:46:45.797391",
     "exception": false,
     "start_time": "2024-09-17T19:46:45.036015",
     "status": "completed"
    },
    "tags": [],
    "trusted": true
   },
   "outputs": [],
   "source": [
    "import json\n",
    "import os\n",
    "import sys\n",
    "import warnings\n",
    "from pathlib import Path\n",
    "from typing import Any\n",
    "\n",
    "import csv\n",
    "import pandas as pd\n",
    "from dotenv import load_dotenv\n",
    "from openai import OpenAI\n",
    "\n",
    "warnings.filterwarnings(\"ignore\")\n",
    "\n",
    "\n",
    "if False:\n",
    "    %pip install python-dotenv==1.0.1\n",
    "    %pip install tqdm==4.66.5\n",
    "    %pip install openai==1.58.1\n",
    "\n",
    "%load_ext dotenv\n",
    "load_dotenv(override=False)\n",
    "\n",
    "PROJECT_ROOT = Path.cwd()\n",
    "\n",
    "extra_module_paths = [(PROJECT_ROOT / \"utils\").resolve()]\n",
    "for candidate in extra_module_paths:\n",
    "    candidate_str = str(candidate)\n",
    "    if candidate_str not in sys.path:\n",
    "        sys.path.insert(0, candidate_str)\n",
    "\n",
    "DATA_PATH = Path(os.environ.get(\"DATA_PATH\", PROJECT_ROOT / \"data\"))\n",
    "FUNDAMENTALS_PATH = Path(os.environ[\"FUNDAMENTALS_PATH\"])\n",
    "LLM_PROMPTS_PATH = DATA_PATH / \"prompts\"\n",
    "HISTORIC_PATH = DATA_PATH / \"historic\"\n",
    "MACRO_PATH = DATA_PATH / \"macro\"\n",
    "OPTIONS_PATH = DATA_PATH / \"options\"\n",
    "LLM_OUTPUT_PATH = DATA_PATH / \"prompts\"\n",
    "LOGS_PATH = Path(\"logs\")\n",
    "\n",
    "for path in (LLM_OUTPUT_PATH, LOGS_PATH):\n",
    "    path.mkdir(parents=True, exist_ok=True)\n",
    "\n",
    "from tqdm.notebook import tqdm\n",
    "\n",
    "from utils.data_utils import (\n",
    "    HIGH_OBJECTIVES,\n",
    "    HIGH_RISK_PROFILE,\n",
    "    LOW_OBJECTIVES,\n",
    "    LOW_RISK_PROFILE,\n",
    "    PERSONA,\n",
    "    evaluate_trading_metrics,\n",
    "    generate_strategy_for_ticker,\n",
    "    plot_llm_trade,\n",
    ")\n"
   ]
  },
  {
   "cell_type": "markdown",
   "metadata": {},
   "source": [
    "## Environment and Constants"
   ]
  },
  {
   "cell_type": "code",
   "execution_count": null,
   "metadata": {},
   "outputs": [],
   "source": [
    "OPENAI_MODEL = os.getenv(\"OPENAI_MODEL\")  # \"gpt-4.1-nano\" #\n",
    "OPENAI_API_KEY = os.getenv(\"OPENAI_API_KEY\")\n",
    "STARTDATE = \"2018-01-01\"\n",
    "ENDDATE = \"2020-01-01\"\n",
    "\n",
    "OPENAI_API_KEY"
   ]
  },
  {
   "cell_type": "markdown",
   "metadata": {},
   "source": [
    "## LLM Setup"
   ]
  },
  {
   "cell_type": "code",
   "execution_count": null,
   "metadata": {},
   "outputs": [],
   "source": [
    "OPENAI_CLIENT = OpenAI(api_key=OPENAI_API_KEY)"
   ]
  },
  {
   "cell_type": "code",
   "execution_count": null,
   "metadata": {},
   "outputs": [],
   "source": [
    "def load_stock_data(ticker: str, start: str = STARTDATE, end: str = ENDDATE) -> pd.DataFrame:\n",
    "    \"\"\"Load engineered feature data for a ticker within the experimentation window.\"\"\"\n",
    "\n",
    "    input_file = HISTORIC_PATH / f\"engineered_{ticker}_data.parquet\"\n",
    "    if not input_file.exists():\n",
    "        raise FileNotFoundError(f\"Engineered data not found for {ticker}: {input_file}\")\n",
    "\n",
    "    start_date = pd.to_datetime(start, utc=True)\n",
    "    end_date = pd.to_datetime(end, utc=True)\n",
    "\n",
    "    engineered_df = pd.read_parquet(input_file)\n",
    "    engineered_df.set_index(\"Date\", inplace=True)\n",
    "    engineered_df.index = pd.to_datetime(engineered_df.index, utc=True)\n",
    "    return engineered_df.loc[start_date:end_date]"
   ]
  },
  {
   "cell_type": "code",
   "execution_count": null,
   "metadata": {},
   "outputs": [],
   "source": [
    "def run_llm_trade_experiment(\n",
    "    ticker_df: pd.DataFrame,\n",
    "    ticker: str,\n",
    "    prompt_version: str,\n",
    "    risk_version: str,\n",
    "    *,\n",
    "    prompt_path: Path = LLM_PROMPTS_PATH,\n",
    "    output_path: Path = LLM_OUTPUT_PATH,\n",
    "    client: Any = OPENAI_CLIENT,\n",
    "    model: str | None = OPENAI_MODEL,\n",
    "    start_date: str = STARTDATE,\n",
    "    end_date: str = ENDDATE,\n",
    "    news_yaml_file: str | None = None,\n",
    "    plot: bool = True,\n",
    ") -> tuple[dict[str, float | None], pd.DataFrame]:\n",
    "    \"\"\"Run the end-to-end LLM trading experiment for a single ticker.\"\"\"\n",
    "\n",
    "    results_dir = (output_path / \"results\" / risk_version / prompt_version / ticker).resolve()\n",
    "    figures_dir = (output_path / \"figures\" / risk_version / prompt_version / ticker).resolve()\n",
    "    results_dir.mkdir(parents=True, exist_ok=True)\n",
    "    figures_dir.mkdir(parents=True, exist_ok=True)\n",
    "\n",
    "    results_file = results_dir / \"llm_results.json\"\n",
    "    data_file = results_dir / \"llm_data.csv\"\n",
    "    figures = {\n",
    "        \"trades\": figures_dir / \"fig1_llm_trade_analysis.png\",\n",
    "        \"signals\": figures_dir / \"fig2_llm_trading_signals.png\",\n",
    "        \"distributions\": figures_dir / \"fig3_llm_distributions.png\",\n",
    "    }\n",
    "\n",
    "    if results_file.exists() and data_file.exists() and all(path.exists() for path in figures.values()):\n",
    "        with results_file.open(\"r\", encoding=\"utf-8\") as handle:\n",
    "            llm_trading_metrics = json.load(handle)\n",
    "        llm_trades_df = pd.read_csv(data_file)\n",
    "    else:\n",
    "        output_dir = (output_path / \"response\" / risk_version / prompt_version).resolve()\n",
    "        output_dir.mkdir(parents=True, exist_ok=True)\n",
    "\n",
    "        news_yaml_path = (prompt_path / news_yaml_file) if news_yaml_file else None\n",
    "        llm_trades_df = generate_strategy_for_ticker(\n",
    "            ticker_df=ticker_df,\n",
    "            ticker=ticker,\n",
    "            LLM_OUTPUT_PATH=output_dir,\n",
    "            persona=PERSONA,\n",
    "            HIGH_RISK_PROFILE=HIGH_RISK_PROFILE if risk_version == \"r\" else LOW_RISK_PROFILE,\n",
    "            HIGH_OBJECTIVES=HIGH_OBJECTIVES if risk_version == \"r\" else LOW_OBJECTIVES,\n",
    "            client=client,\n",
    "            model=model,\n",
    "            strategy_yaml_file=prompt_path / f\"strat_prompt_{prompt_version}.yml\",\n",
    "            news_yaml_file=news_yaml_path,\n",
    "            start_date=start_date,\n",
    "            end_date=end_date,\n",
    "            max_news=5 if news_yaml_path else 0,\n",
    "            time_horizon=\"monthly\",\n",
    "        )\n",
    "\n",
    "        llm_trading_metrics, llm_trades_df = evaluate_trading_metrics(llm_trades_df)\n",
    "        with results_file.open(\"w\", encoding=\"utf-8\") as handle:\n",
    "            json.dump(llm_trading_metrics, handle, indent=4)\n",
    "        llm_trades_df.to_csv(data_file, index=False, quoting=csv.QUOTE_MINIMAL, escapechar=\"\\\\\")\n",
    "        fig_trades, fig_distributions, fig_signals = plot_llm_trade(llm_trades_df, plot=plot)\n",
    "\n",
    "        fig_trades.savefig(figures[\"trades\"], dpi=300, bbox_inches=\"tight\")\n",
    "        fig_signals.savefig(figures[\"signals\"], dpi=300, bbox_inches=\"tight\")\n",
    "        if fig_distributions is not None:\n",
    "            fig_distributions.savefig(figures[\"distributions\"], dpi=300, bbox_inches=\"tight\")\n",
    "\n",
    "    return llm_trading_metrics, llm_trades_df"
   ]
  },
  {
   "cell_type": "code",
   "execution_count": 6,
   "metadata": {},
   "outputs": [
    {
     "ename": "KeyboardInterrupt",
     "evalue": "",
     "output_type": "error",
     "traceback": [
      "\u001b[31m---------------------------------------------------------------------------\u001b[39m",
      "\u001b[31mAuthenticationError\u001b[39m                       Traceback (most recent call last)",
      "\u001b[36mFile \u001b[39m\u001b[32mc:\\Users\\adamd\\workspace\\Language-Model-Guided-Reinforcement-Learning-in-Quantitative-Trading\\.venv\\Lib\\site-packages\\backoff\\_sync.py:105\u001b[39m, in \u001b[36mretry_exception.<locals>.retry\u001b[39m\u001b[34m(*args, **kwargs)\u001b[39m\n\u001b[32m    104\u001b[39m \u001b[38;5;28;01mtry\u001b[39;00m:\n\u001b[32m--> \u001b[39m\u001b[32m105\u001b[39m     ret = \u001b[43mtarget\u001b[49m\u001b[43m(\u001b[49m\u001b[43m*\u001b[49m\u001b[43margs\u001b[49m\u001b[43m,\u001b[49m\u001b[43m \u001b[49m\u001b[43m*\u001b[49m\u001b[43m*\u001b[49m\u001b[43mkwargs\u001b[49m\u001b[43m)\u001b[49m\n\u001b[32m    106\u001b[39m \u001b[38;5;28;01mexcept\u001b[39;00m exception \u001b[38;5;28;01mas\u001b[39;00m e:\n",
      "\u001b[36mFile \u001b[39m\u001b[32mc:\\Users\\adamd\\workspace\\Language-Model-Guided-Reinforcement-Learning-in-Quantitative-Trading\\utils\\data_utils.py:1304\u001b[39m, in \u001b[36mcall_openai_to_extract_news\u001b[39m\u001b[34m(articles, news_yml_file, ticker, target_name, date, client, model, response_format, LLM_OUTPUT_PATH)\u001b[39m\n\u001b[32m   1296\u001b[39m prompt = prepare_yaml_with_articles(\n\u001b[32m   1297\u001b[39m     articles=articles,\n\u001b[32m   1298\u001b[39m     news_template=news_template,\n\u001b[32m   (...)\u001b[39m\u001b[32m   1301\u001b[39m     date=date,\n\u001b[32m   1302\u001b[39m )\n\u001b[32m-> \u001b[39m\u001b[32m1304\u001b[39m response = \u001b[43mclient\u001b[49m\u001b[43m.\u001b[49m\u001b[43mbeta\u001b[49m\u001b[43m.\u001b[49m\u001b[43mchat\u001b[49m\u001b[43m.\u001b[49m\u001b[43mcompletions\u001b[49m\u001b[43m.\u001b[49m\u001b[43mparse\u001b[49m\u001b[43m(\u001b[49m\n\u001b[32m   1305\u001b[39m \u001b[43m    \u001b[49m\u001b[43mmodel\u001b[49m\u001b[43m=\u001b[49m\u001b[43mmodel\u001b[49m\u001b[43m,\u001b[49m\n\u001b[32m   1306\u001b[39m \u001b[43m    \u001b[49m\u001b[43mmessages\u001b[49m\u001b[43m=\u001b[49m\u001b[43m[\u001b[49m\u001b[43m{\u001b[49m\u001b[33;43m\"\u001b[39;49m\u001b[33;43mrole\u001b[39;49m\u001b[33;43m\"\u001b[39;49m\u001b[43m:\u001b[49m\u001b[43m \u001b[49m\u001b[33;43m\"\u001b[39;49m\u001b[33;43muser\u001b[39;49m\u001b[33;43m\"\u001b[39;49m\u001b[43m,\u001b[49m\u001b[43m \u001b[49m\u001b[33;43m\"\u001b[39;49m\u001b[33;43mcontent\u001b[39;49m\u001b[33;43m\"\u001b[39;49m\u001b[43m:\u001b[49m\u001b[43m \u001b[49m\u001b[43mprompt\u001b[49m\u001b[43m}\u001b[49m\u001b[43m]\u001b[49m\u001b[43m,\u001b[49m\n\u001b[32m   1307\u001b[39m \u001b[43m    \u001b[49m\u001b[43mtemperature\u001b[49m\u001b[43m=\u001b[49m\u001b[32;43m0\u001b[39;49m\u001b[43m,\u001b[49m\n\u001b[32m   1308\u001b[39m \u001b[43m    \u001b[49m\u001b[43mtop_p\u001b[49m\u001b[43m=\u001b[49m\u001b[32;43m1\u001b[39;49m\u001b[43m,\u001b[49m\n\u001b[32m   1309\u001b[39m \u001b[43m    \u001b[49m\u001b[43mresponse_format\u001b[49m\u001b[43m=\u001b[49m\u001b[43mresponse_format\u001b[49m\u001b[43m,\u001b[49m\n\u001b[32m   1310\u001b[39m \u001b[43m    \u001b[49m\u001b[43mmax_tokens\u001b[49m\u001b[43m=\u001b[49m\u001b[32;43m7500\u001b[39;49m\u001b[43m,\u001b[49m\n\u001b[32m   1311\u001b[39m \u001b[43m\u001b[49m\u001b[43m)\u001b[49m\n\u001b[32m   1313\u001b[39m parsed_response = response.choices[\u001b[32m0\u001b[39m].message.parsed\n",
      "\u001b[36mFile \u001b[39m\u001b[32mc:\\Users\\adamd\\workspace\\Language-Model-Guided-Reinforcement-Learning-in-Quantitative-Trading\\.venv\\Lib\\site-packages\\openai\\resources\\beta\\chat\\completions.py:158\u001b[39m, in \u001b[36mCompletions.parse\u001b[39m\u001b[34m(self, messages, model, audio, response_format, frequency_penalty, function_call, functions, logit_bias, logprobs, max_completion_tokens, max_tokens, metadata, modalities, n, parallel_tool_calls, prediction, presence_penalty, reasoning_effort, seed, service_tier, stop, store, stream_options, temperature, tool_choice, tools, top_logprobs, top_p, user, web_search_options, extra_headers, extra_query, extra_body, timeout)\u001b[39m\n\u001b[32m    152\u001b[39m     \u001b[38;5;28;01mreturn\u001b[39;00m _parse_chat_completion(\n\u001b[32m    153\u001b[39m         response_format=response_format,\n\u001b[32m    154\u001b[39m         chat_completion=raw_completion,\n\u001b[32m    155\u001b[39m         input_tools=tools,\n\u001b[32m    156\u001b[39m     )\n\u001b[32m--> \u001b[39m\u001b[32m158\u001b[39m \u001b[38;5;28;01mreturn\u001b[39;00m \u001b[38;5;28;43mself\u001b[39;49m\u001b[43m.\u001b[49m\u001b[43m_post\u001b[49m\u001b[43m(\u001b[49m\n\u001b[32m    159\u001b[39m \u001b[43m    \u001b[49m\u001b[33;43m\"\u001b[39;49m\u001b[33;43m/chat/completions\u001b[39;49m\u001b[33;43m\"\u001b[39;49m\u001b[43m,\u001b[49m\n\u001b[32m    160\u001b[39m \u001b[43m    \u001b[49m\u001b[43mbody\u001b[49m\u001b[43m=\u001b[49m\u001b[43mmaybe_transform\u001b[49m\u001b[43m(\u001b[49m\n\u001b[32m    161\u001b[39m \u001b[43m        \u001b[49m\u001b[43m{\u001b[49m\n\u001b[32m    162\u001b[39m \u001b[43m            \u001b[49m\u001b[33;43m\"\u001b[39;49m\u001b[33;43mmessages\u001b[39;49m\u001b[33;43m\"\u001b[39;49m\u001b[43m:\u001b[49m\u001b[43m \u001b[49m\u001b[43mmessages\u001b[49m\u001b[43m,\u001b[49m\n\u001b[32m    163\u001b[39m \u001b[43m            \u001b[49m\u001b[33;43m\"\u001b[39;49m\u001b[33;43mmodel\u001b[39;49m\u001b[33;43m\"\u001b[39;49m\u001b[43m:\u001b[49m\u001b[43m \u001b[49m\u001b[43mmodel\u001b[49m\u001b[43m,\u001b[49m\n\u001b[32m    164\u001b[39m \u001b[43m            \u001b[49m\u001b[33;43m\"\u001b[39;49m\u001b[33;43maudio\u001b[39;49m\u001b[33;43m\"\u001b[39;49m\u001b[43m:\u001b[49m\u001b[43m \u001b[49m\u001b[43maudio\u001b[49m\u001b[43m,\u001b[49m\n\u001b[32m    165\u001b[39m \u001b[43m            \u001b[49m\u001b[33;43m\"\u001b[39;49m\u001b[33;43mfrequency_penalty\u001b[39;49m\u001b[33;43m\"\u001b[39;49m\u001b[43m:\u001b[49m\u001b[43m \u001b[49m\u001b[43mfrequency_penalty\u001b[49m\u001b[43m,\u001b[49m\n\u001b[32m    166\u001b[39m \u001b[43m            \u001b[49m\u001b[33;43m\"\u001b[39;49m\u001b[33;43mfunction_call\u001b[39;49m\u001b[33;43m\"\u001b[39;49m\u001b[43m:\u001b[49m\u001b[43m \u001b[49m\u001b[43mfunction_call\u001b[49m\u001b[43m,\u001b[49m\n\u001b[32m    167\u001b[39m \u001b[43m            \u001b[49m\u001b[33;43m\"\u001b[39;49m\u001b[33;43mfunctions\u001b[39;49m\u001b[33;43m\"\u001b[39;49m\u001b[43m:\u001b[49m\u001b[43m \u001b[49m\u001b[43mfunctions\u001b[49m\u001b[43m,\u001b[49m\n\u001b[32m    168\u001b[39m \u001b[43m            \u001b[49m\u001b[33;43m\"\u001b[39;49m\u001b[33;43mlogit_bias\u001b[39;49m\u001b[33;43m\"\u001b[39;49m\u001b[43m:\u001b[49m\u001b[43m \u001b[49m\u001b[43mlogit_bias\u001b[49m\u001b[43m,\u001b[49m\n\u001b[32m    169\u001b[39m \u001b[43m            \u001b[49m\u001b[33;43m\"\u001b[39;49m\u001b[33;43mlogprobs\u001b[39;49m\u001b[33;43m\"\u001b[39;49m\u001b[43m:\u001b[49m\u001b[43m \u001b[49m\u001b[43mlogprobs\u001b[49m\u001b[43m,\u001b[49m\n\u001b[32m    170\u001b[39m \u001b[43m            \u001b[49m\u001b[33;43m\"\u001b[39;49m\u001b[33;43mmax_completion_tokens\u001b[39;49m\u001b[33;43m\"\u001b[39;49m\u001b[43m:\u001b[49m\u001b[43m \u001b[49m\u001b[43mmax_completion_tokens\u001b[49m\u001b[43m,\u001b[49m\n\u001b[32m    171\u001b[39m \u001b[43m            \u001b[49m\u001b[33;43m\"\u001b[39;49m\u001b[33;43mmax_tokens\u001b[39;49m\u001b[33;43m\"\u001b[39;49m\u001b[43m:\u001b[49m\u001b[43m \u001b[49m\u001b[43mmax_tokens\u001b[49m\u001b[43m,\u001b[49m\n\u001b[32m    172\u001b[39m \u001b[43m            \u001b[49m\u001b[33;43m\"\u001b[39;49m\u001b[33;43mmetadata\u001b[39;49m\u001b[33;43m\"\u001b[39;49m\u001b[43m:\u001b[49m\u001b[43m \u001b[49m\u001b[43mmetadata\u001b[49m\u001b[43m,\u001b[49m\n\u001b[32m    173\u001b[39m \u001b[43m            \u001b[49m\u001b[33;43m\"\u001b[39;49m\u001b[33;43mmodalities\u001b[39;49m\u001b[33;43m\"\u001b[39;49m\u001b[43m:\u001b[49m\u001b[43m \u001b[49m\u001b[43mmodalities\u001b[49m\u001b[43m,\u001b[49m\n\u001b[32m    174\u001b[39m \u001b[43m            \u001b[49m\u001b[33;43m\"\u001b[39;49m\u001b[33;43mn\u001b[39;49m\u001b[33;43m\"\u001b[39;49m\u001b[43m:\u001b[49m\u001b[43m \u001b[49m\u001b[43mn\u001b[49m\u001b[43m,\u001b[49m\n\u001b[32m    175\u001b[39m \u001b[43m            \u001b[49m\u001b[33;43m\"\u001b[39;49m\u001b[33;43mparallel_tool_calls\u001b[39;49m\u001b[33;43m\"\u001b[39;49m\u001b[43m:\u001b[49m\u001b[43m \u001b[49m\u001b[43mparallel_tool_calls\u001b[49m\u001b[43m,\u001b[49m\n\u001b[32m    176\u001b[39m \u001b[43m            \u001b[49m\u001b[33;43m\"\u001b[39;49m\u001b[33;43mprediction\u001b[39;49m\u001b[33;43m\"\u001b[39;49m\u001b[43m:\u001b[49m\u001b[43m \u001b[49m\u001b[43mprediction\u001b[49m\u001b[43m,\u001b[49m\n\u001b[32m    177\u001b[39m \u001b[43m            \u001b[49m\u001b[33;43m\"\u001b[39;49m\u001b[33;43mpresence_penalty\u001b[39;49m\u001b[33;43m\"\u001b[39;49m\u001b[43m:\u001b[49m\u001b[43m \u001b[49m\u001b[43mpresence_penalty\u001b[49m\u001b[43m,\u001b[49m\n\u001b[32m    178\u001b[39m \u001b[43m            \u001b[49m\u001b[33;43m\"\u001b[39;49m\u001b[33;43mreasoning_effort\u001b[39;49m\u001b[33;43m\"\u001b[39;49m\u001b[43m:\u001b[49m\u001b[43m \u001b[49m\u001b[43mreasoning_effort\u001b[49m\u001b[43m,\u001b[49m\n\u001b[32m    179\u001b[39m \u001b[43m            \u001b[49m\u001b[33;43m\"\u001b[39;49m\u001b[33;43mresponse_format\u001b[39;49m\u001b[33;43m\"\u001b[39;49m\u001b[43m:\u001b[49m\u001b[43m \u001b[49m\u001b[43m_type_to_response_format\u001b[49m\u001b[43m(\u001b[49m\u001b[43mresponse_format\u001b[49m\u001b[43m)\u001b[49m\u001b[43m,\u001b[49m\n\u001b[32m    180\u001b[39m \u001b[43m            \u001b[49m\u001b[33;43m\"\u001b[39;49m\u001b[33;43mseed\u001b[39;49m\u001b[33;43m\"\u001b[39;49m\u001b[43m:\u001b[49m\u001b[43m \u001b[49m\u001b[43mseed\u001b[49m\u001b[43m,\u001b[49m\n\u001b[32m    181\u001b[39m \u001b[43m            \u001b[49m\u001b[33;43m\"\u001b[39;49m\u001b[33;43mservice_tier\u001b[39;49m\u001b[33;43m\"\u001b[39;49m\u001b[43m:\u001b[49m\u001b[43m \u001b[49m\u001b[43mservice_tier\u001b[49m\u001b[43m,\u001b[49m\n\u001b[32m    182\u001b[39m \u001b[43m            \u001b[49m\u001b[33;43m\"\u001b[39;49m\u001b[33;43mstop\u001b[39;49m\u001b[33;43m\"\u001b[39;49m\u001b[43m:\u001b[49m\u001b[43m \u001b[49m\u001b[43mstop\u001b[49m\u001b[43m,\u001b[49m\n\u001b[32m    183\u001b[39m \u001b[43m            \u001b[49m\u001b[33;43m\"\u001b[39;49m\u001b[33;43mstore\u001b[39;49m\u001b[33;43m\"\u001b[39;49m\u001b[43m:\u001b[49m\u001b[43m \u001b[49m\u001b[43mstore\u001b[49m\u001b[43m,\u001b[49m\n\u001b[32m    184\u001b[39m \u001b[43m            \u001b[49m\u001b[33;43m\"\u001b[39;49m\u001b[33;43mstream\u001b[39;49m\u001b[33;43m\"\u001b[39;49m\u001b[43m:\u001b[49m\u001b[43m \u001b[49m\u001b[38;5;28;43;01mFalse\u001b[39;49;00m\u001b[43m,\u001b[49m\n\u001b[32m    185\u001b[39m \u001b[43m            \u001b[49m\u001b[33;43m\"\u001b[39;49m\u001b[33;43mstream_options\u001b[39;49m\u001b[33;43m\"\u001b[39;49m\u001b[43m:\u001b[49m\u001b[43m \u001b[49m\u001b[43mstream_options\u001b[49m\u001b[43m,\u001b[49m\n\u001b[32m    186\u001b[39m \u001b[43m            \u001b[49m\u001b[33;43m\"\u001b[39;49m\u001b[33;43mtemperature\u001b[39;49m\u001b[33;43m\"\u001b[39;49m\u001b[43m:\u001b[49m\u001b[43m \u001b[49m\u001b[43mtemperature\u001b[49m\u001b[43m,\u001b[49m\n\u001b[32m    187\u001b[39m \u001b[43m            \u001b[49m\u001b[33;43m\"\u001b[39;49m\u001b[33;43mtool_choice\u001b[39;49m\u001b[33;43m\"\u001b[39;49m\u001b[43m:\u001b[49m\u001b[43m \u001b[49m\u001b[43mtool_choice\u001b[49m\u001b[43m,\u001b[49m\n\u001b[32m    188\u001b[39m \u001b[43m            \u001b[49m\u001b[33;43m\"\u001b[39;49m\u001b[33;43mtools\u001b[39;49m\u001b[33;43m\"\u001b[39;49m\u001b[43m:\u001b[49m\u001b[43m \u001b[49m\u001b[43mtools\u001b[49m\u001b[43m,\u001b[49m\n\u001b[32m    189\u001b[39m \u001b[43m            \u001b[49m\u001b[33;43m\"\u001b[39;49m\u001b[33;43mtop_logprobs\u001b[39;49m\u001b[33;43m\"\u001b[39;49m\u001b[43m:\u001b[49m\u001b[43m \u001b[49m\u001b[43mtop_logprobs\u001b[49m\u001b[43m,\u001b[49m\n\u001b[32m    190\u001b[39m \u001b[43m            \u001b[49m\u001b[33;43m\"\u001b[39;49m\u001b[33;43mtop_p\u001b[39;49m\u001b[33;43m\"\u001b[39;49m\u001b[43m:\u001b[49m\u001b[43m \u001b[49m\u001b[43mtop_p\u001b[49m\u001b[43m,\u001b[49m\n\u001b[32m    191\u001b[39m \u001b[43m            \u001b[49m\u001b[33;43m\"\u001b[39;49m\u001b[33;43muser\u001b[39;49m\u001b[33;43m\"\u001b[39;49m\u001b[43m:\u001b[49m\u001b[43m \u001b[49m\u001b[43muser\u001b[49m\u001b[43m,\u001b[49m\n\u001b[32m    192\u001b[39m \u001b[43m            \u001b[49m\u001b[33;43m\"\u001b[39;49m\u001b[33;43mweb_search_options\u001b[39;49m\u001b[33;43m\"\u001b[39;49m\u001b[43m:\u001b[49m\u001b[43m \u001b[49m\u001b[43mweb_search_options\u001b[49m\u001b[43m,\u001b[49m\n\u001b[32m    193\u001b[39m \u001b[43m        \u001b[49m\u001b[43m}\u001b[49m\u001b[43m,\u001b[49m\n\u001b[32m    194\u001b[39m \u001b[43m        \u001b[49m\u001b[43mcompletion_create_params\u001b[49m\u001b[43m.\u001b[49m\u001b[43mCompletionCreateParams\u001b[49m\u001b[43m,\u001b[49m\n\u001b[32m    195\u001b[39m \u001b[43m    \u001b[49m\u001b[43m)\u001b[49m\u001b[43m,\u001b[49m\n\u001b[32m    196\u001b[39m \u001b[43m    \u001b[49m\u001b[43moptions\u001b[49m\u001b[43m=\u001b[49m\u001b[43mmake_request_options\u001b[49m\u001b[43m(\u001b[49m\n\u001b[32m    197\u001b[39m \u001b[43m        \u001b[49m\u001b[43mextra_headers\u001b[49m\u001b[43m=\u001b[49m\u001b[43mextra_headers\u001b[49m\u001b[43m,\u001b[49m\n\u001b[32m    198\u001b[39m \u001b[43m        \u001b[49m\u001b[43mextra_query\u001b[49m\u001b[43m=\u001b[49m\u001b[43mextra_query\u001b[49m\u001b[43m,\u001b[49m\n\u001b[32m    199\u001b[39m \u001b[43m        \u001b[49m\u001b[43mextra_body\u001b[49m\u001b[43m=\u001b[49m\u001b[43mextra_body\u001b[49m\u001b[43m,\u001b[49m\n\u001b[32m    200\u001b[39m \u001b[43m        \u001b[49m\u001b[43mtimeout\u001b[49m\u001b[43m=\u001b[49m\u001b[43mtimeout\u001b[49m\u001b[43m,\u001b[49m\n\u001b[32m    201\u001b[39m \u001b[43m        \u001b[49m\u001b[43mpost_parser\u001b[49m\u001b[43m=\u001b[49m\u001b[43mparser\u001b[49m\u001b[43m,\u001b[49m\n\u001b[32m    202\u001b[39m \u001b[43m    \u001b[49m\u001b[43m)\u001b[49m\u001b[43m,\u001b[49m\n\u001b[32m    203\u001b[39m \u001b[43m    \u001b[49m\u001b[38;5;66;43;03m# we turn the `ChatCompletion` instance into a `ParsedChatCompletion`\u001b[39;49;00m\n\u001b[32m    204\u001b[39m \u001b[43m    \u001b[49m\u001b[38;5;66;43;03m# in the `parser` function above\u001b[39;49;00m\n\u001b[32m    205\u001b[39m \u001b[43m    \u001b[49m\u001b[43mcast_to\u001b[49m\u001b[43m=\u001b[49m\u001b[43mcast\u001b[49m\u001b[43m(\u001b[49m\u001b[43mType\u001b[49m\u001b[43m[\u001b[49m\u001b[43mParsedChatCompletion\u001b[49m\u001b[43m[\u001b[49m\u001b[43mResponseFormatT\u001b[49m\u001b[43m]\u001b[49m\u001b[43m]\u001b[49m\u001b[43m,\u001b[49m\u001b[43m \u001b[49m\u001b[43mChatCompletion\u001b[49m\u001b[43m)\u001b[49m\u001b[43m,\u001b[49m\n\u001b[32m    206\u001b[39m \u001b[43m    \u001b[49m\u001b[43mstream\u001b[49m\u001b[43m=\u001b[49m\u001b[38;5;28;43;01mFalse\u001b[39;49;00m\u001b[43m,\u001b[49m\n\u001b[32m    207\u001b[39m \u001b[43m\u001b[49m\u001b[43m)\u001b[49m\n",
      "\u001b[36mFile \u001b[39m\u001b[32mc:\\Users\\adamd\\workspace\\Language-Model-Guided-Reinforcement-Learning-in-Quantitative-Trading\\.venv\\Lib\\site-packages\\openai\\_base_client.py:1239\u001b[39m, in \u001b[36mSyncAPIClient.post\u001b[39m\u001b[34m(self, path, cast_to, body, options, files, stream, stream_cls)\u001b[39m\n\u001b[32m   1236\u001b[39m opts = FinalRequestOptions.construct(\n\u001b[32m   1237\u001b[39m     method=\u001b[33m\"\u001b[39m\u001b[33mpost\u001b[39m\u001b[33m\"\u001b[39m, url=path, json_data=body, files=to_httpx_files(files), **options\n\u001b[32m   1238\u001b[39m )\n\u001b[32m-> \u001b[39m\u001b[32m1239\u001b[39m \u001b[38;5;28;01mreturn\u001b[39;00m cast(ResponseT, \u001b[38;5;28;43mself\u001b[39;49m\u001b[43m.\u001b[49m\u001b[43mrequest\u001b[49m\u001b[43m(\u001b[49m\u001b[43mcast_to\u001b[49m\u001b[43m,\u001b[49m\u001b[43m \u001b[49m\u001b[43mopts\u001b[49m\u001b[43m,\u001b[49m\u001b[43m \u001b[49m\u001b[43mstream\u001b[49m\u001b[43m=\u001b[49m\u001b[43mstream\u001b[49m\u001b[43m,\u001b[49m\u001b[43m \u001b[49m\u001b[43mstream_cls\u001b[49m\u001b[43m=\u001b[49m\u001b[43mstream_cls\u001b[49m\u001b[43m)\u001b[49m)\n",
      "\u001b[36mFile \u001b[39m\u001b[32mc:\\Users\\adamd\\workspace\\Language-Model-Guided-Reinforcement-Learning-in-Quantitative-Trading\\.venv\\Lib\\site-packages\\openai\\_base_client.py:1034\u001b[39m, in \u001b[36mSyncAPIClient.request\u001b[39m\u001b[34m(self, cast_to, options, stream, stream_cls)\u001b[39m\n\u001b[32m   1033\u001b[39m     log.debug(\u001b[33m\"\u001b[39m\u001b[33mRe-raising status error\u001b[39m\u001b[33m\"\u001b[39m)\n\u001b[32m-> \u001b[39m\u001b[32m1034\u001b[39m     \u001b[38;5;28;01mraise\u001b[39;00m \u001b[38;5;28mself\u001b[39m._make_status_error_from_response(err.response) \u001b[38;5;28;01mfrom\u001b[39;00m\u001b[38;5;250m \u001b[39m\u001b[38;5;28;01mNone\u001b[39;00m\n\u001b[32m   1036\u001b[39m \u001b[38;5;28;01mbreak\u001b[39;00m\n",
      "\u001b[31mAuthenticationError\u001b[39m: Error code: 401 - {'error': {'message': 'Incorrect API key provided: sk-proj-********************************************************************************************************************************************************It4A. You can find your API key at https://platform.openai.com/account/api-keys.', 'type': 'invalid_request_error', 'param': None, 'code': 'invalid_api_key'}}",
      "\nDuring handling of the above exception, another exception occurred:\n",
      "\u001b[31mKeyboardInterrupt\u001b[39m                         Traceback (most recent call last)",
      "\u001b[36mCell\u001b[39m\u001b[36m \u001b[39m\u001b[32mIn[6]\u001b[39m\u001b[32m, line 3\u001b[39m\n\u001b[32m      1\u001b[39m TARGET = \u001b[33m\"\u001b[39m\u001b[33mTSLA\u001b[39m\u001b[33m\"\u001b[39m\n\u001b[32m      2\u001b[39m engineered_df = load_stock_data(TARGET)\n\u001b[32m----> \u001b[39m\u001b[32m3\u001b[39m llm_trading_metrics, llm_trades_df = \u001b[43mrun_llm_trade_experiment\u001b[49m\u001b[43m(\u001b[49m\n\u001b[32m      4\u001b[39m \u001b[43m    \u001b[49m\u001b[43mticker_df\u001b[49m\u001b[43m=\u001b[49m\u001b[43mengineered_df\u001b[49m\u001b[43m,\u001b[49m\n\u001b[32m      5\u001b[39m \u001b[43m    \u001b[49m\u001b[43mticker\u001b[49m\u001b[43m=\u001b[49m\u001b[43mTARGET\u001b[49m\u001b[43m,\u001b[49m\n\u001b[32m      6\u001b[39m \u001b[43m    \u001b[49m\u001b[43mprompt_version\u001b[49m\u001b[43m=\u001b[49m\u001b[33;43m\"\u001b[39;49m\u001b[33;43mv4\u001b[39;49m\u001b[33;43m\"\u001b[39;49m\u001b[43m,\u001b[49m\n\u001b[32m      7\u001b[39m \u001b[43m    \u001b[49m\u001b[43mnews_yaml_file\u001b[49m\u001b[43m=\u001b[49m\u001b[33;43m\"\u001b[39;49m\u001b[33;43manalyst_prompt_v1.yml\u001b[39;49m\u001b[33;43m\"\u001b[39;49m\u001b[43m,\u001b[49m\n\u001b[32m      8\u001b[39m \u001b[43m    \u001b[49m\u001b[43mstart_date\u001b[49m\u001b[43m=\u001b[49m\u001b[43mSTARTDATE\u001b[49m\u001b[43m,\u001b[49m\n\u001b[32m      9\u001b[39m \u001b[43m    \u001b[49m\u001b[43mend_date\u001b[49m\u001b[43m=\u001b[49m\u001b[43mENDDATE\u001b[49m\u001b[43m,\u001b[49m\n\u001b[32m     10\u001b[39m \u001b[43m    \u001b[49m\u001b[43mrisk_version\u001b[49m\u001b[43m=\u001b[49m\u001b[33;43m\"\u001b[39;49m\u001b[33;43mr\u001b[39;49m\u001b[33;43m\"\u001b[39;49m\u001b[43m,\u001b[49m\n\u001b[32m     11\u001b[39m \u001b[43m    \u001b[49m\u001b[43mmodel\u001b[49m\u001b[43m=\u001b[49m\u001b[43mOPENAI_MODEL\u001b[49m\u001b[43m,\u001b[49m\n\u001b[32m     12\u001b[39m \u001b[43m)\u001b[49m\n\u001b[32m     13\u001b[39m llm_trading_metrics\n",
      "\u001b[36mCell\u001b[39m\u001b[36m \u001b[39m\u001b[32mIn[5]\u001b[39m\u001b[32m, line 40\u001b[39m, in \u001b[36mrun_llm_trade_experiment\u001b[39m\u001b[34m(ticker_df, ticker, prompt_version, risk_version, prompt_path, output_path, client, model, start_date, end_date, news_yaml_file, plot)\u001b[39m\n\u001b[32m     37\u001b[39m output_dir.mkdir(parents=\u001b[38;5;28;01mTrue\u001b[39;00m, exist_ok=\u001b[38;5;28;01mTrue\u001b[39;00m)\n\u001b[32m     39\u001b[39m news_yaml_path = (prompt_path / news_yaml_file) \u001b[38;5;28;01mif\u001b[39;00m news_yaml_file \u001b[38;5;28;01melse\u001b[39;00m \u001b[38;5;28;01mNone\u001b[39;00m\n\u001b[32m---> \u001b[39m\u001b[32m40\u001b[39m llm_trades_df = \u001b[43mgenerate_strategy_for_ticker\u001b[49m\u001b[43m(\u001b[49m\n\u001b[32m     41\u001b[39m \u001b[43m    \u001b[49m\u001b[43mticker_df\u001b[49m\u001b[43m=\u001b[49m\u001b[43mticker_df\u001b[49m\u001b[43m,\u001b[49m\n\u001b[32m     42\u001b[39m \u001b[43m    \u001b[49m\u001b[43mticker\u001b[49m\u001b[43m=\u001b[49m\u001b[43mticker\u001b[49m\u001b[43m,\u001b[49m\n\u001b[32m     43\u001b[39m \u001b[43m    \u001b[49m\u001b[43mLLM_OUTPUT_PATH\u001b[49m\u001b[43m=\u001b[49m\u001b[43moutput_dir\u001b[49m\u001b[43m,\u001b[49m\n\u001b[32m     44\u001b[39m \u001b[43m    \u001b[49m\u001b[43mpersona\u001b[49m\u001b[43m=\u001b[49m\u001b[43mPERSONA\u001b[49m\u001b[43m,\u001b[49m\n\u001b[32m     45\u001b[39m \u001b[43m    \u001b[49m\u001b[43mHIGH_RISK_PROFILE\u001b[49m\u001b[43m=\u001b[49m\u001b[43mHIGH_RISK_PROFILE\u001b[49m\u001b[43m \u001b[49m\u001b[38;5;28;43;01mif\u001b[39;49;00m\u001b[43m \u001b[49m\u001b[43mrisk_version\u001b[49m\u001b[43m \u001b[49m\u001b[43m==\u001b[49m\u001b[43m \u001b[49m\u001b[33;43m\"\u001b[39;49m\u001b[33;43mr\u001b[39;49m\u001b[33;43m\"\u001b[39;49m\u001b[43m \u001b[49m\u001b[38;5;28;43;01melse\u001b[39;49;00m\u001b[43m \u001b[49m\u001b[43mLOW_RISK_PROFILE\u001b[49m\u001b[43m,\u001b[49m\n\u001b[32m     46\u001b[39m \u001b[43m    \u001b[49m\u001b[43mHIGH_OBJECTIVES\u001b[49m\u001b[43m=\u001b[49m\u001b[43mHIGH_OBJECTIVES\u001b[49m\u001b[43m \u001b[49m\u001b[38;5;28;43;01mif\u001b[39;49;00m\u001b[43m \u001b[49m\u001b[43mrisk_version\u001b[49m\u001b[43m \u001b[49m\u001b[43m==\u001b[49m\u001b[43m \u001b[49m\u001b[33;43m\"\u001b[39;49m\u001b[33;43mr\u001b[39;49m\u001b[33;43m\"\u001b[39;49m\u001b[43m \u001b[49m\u001b[38;5;28;43;01melse\u001b[39;49;00m\u001b[43m \u001b[49m\u001b[43mLOW_OBJECTIVES\u001b[49m\u001b[43m,\u001b[49m\n\u001b[32m     47\u001b[39m \u001b[43m    \u001b[49m\u001b[43mclient\u001b[49m\u001b[43m=\u001b[49m\u001b[43mclient\u001b[49m\u001b[43m,\u001b[49m\n\u001b[32m     48\u001b[39m \u001b[43m    \u001b[49m\u001b[43mmodel\u001b[49m\u001b[43m=\u001b[49m\u001b[43mmodel\u001b[49m\u001b[43m,\u001b[49m\n\u001b[32m     49\u001b[39m \u001b[43m    \u001b[49m\u001b[43mstrategy_yaml_file\u001b[49m\u001b[43m=\u001b[49m\u001b[43mprompt_path\u001b[49m\u001b[43m \u001b[49m\u001b[43m/\u001b[49m\u001b[43m \u001b[49m\u001b[33;43mf\u001b[39;49m\u001b[33;43m\"\u001b[39;49m\u001b[33;43mstrat_prompt_\u001b[39;49m\u001b[38;5;132;43;01m{\u001b[39;49;00m\u001b[43mprompt_version\u001b[49m\u001b[38;5;132;43;01m}\u001b[39;49;00m\u001b[33;43m.yml\u001b[39;49m\u001b[33;43m\"\u001b[39;49m\u001b[43m,\u001b[49m\n\u001b[32m     50\u001b[39m \u001b[43m    \u001b[49m\u001b[43mnews_yaml_file\u001b[49m\u001b[43m=\u001b[49m\u001b[43mnews_yaml_path\u001b[49m\u001b[43m,\u001b[49m\n\u001b[32m     51\u001b[39m \u001b[43m    \u001b[49m\u001b[43mstart_date\u001b[49m\u001b[43m=\u001b[49m\u001b[43mstart_date\u001b[49m\u001b[43m,\u001b[49m\n\u001b[32m     52\u001b[39m \u001b[43m    \u001b[49m\u001b[43mend_date\u001b[49m\u001b[43m=\u001b[49m\u001b[43mend_date\u001b[49m\u001b[43m,\u001b[49m\n\u001b[32m     53\u001b[39m \u001b[43m    \u001b[49m\u001b[43mmax_news\u001b[49m\u001b[43m=\u001b[49m\u001b[32;43m5\u001b[39;49m\u001b[43m \u001b[49m\u001b[38;5;28;43;01mif\u001b[39;49;00m\u001b[43m \u001b[49m\u001b[43mnews_yaml_path\u001b[49m\u001b[43m \u001b[49m\u001b[38;5;28;43;01melse\u001b[39;49;00m\u001b[43m \u001b[49m\u001b[32;43m0\u001b[39;49m\u001b[43m,\u001b[49m\n\u001b[32m     54\u001b[39m \u001b[43m    \u001b[49m\u001b[43mtime_horizon\u001b[49m\u001b[43m=\u001b[49m\u001b[33;43m\"\u001b[39;49m\u001b[33;43mmonthly\u001b[39;49m\u001b[33;43m\"\u001b[39;49m\u001b[43m,\u001b[49m\n\u001b[32m     55\u001b[39m \u001b[43m\u001b[49m\u001b[43m)\u001b[49m\n\u001b[32m     57\u001b[39m llm_trading_metrics, llm_trades_df = evaluate_trading_metrics(llm_trades_df)\n\u001b[32m     58\u001b[39m \u001b[38;5;28;01mwith\u001b[39;00m results_file.open(\u001b[33m\"\u001b[39m\u001b[33mw\u001b[39m\u001b[33m\"\u001b[39m, encoding=\u001b[33m\"\u001b[39m\u001b[33mutf-8\u001b[39m\u001b[33m\"\u001b[39m) \u001b[38;5;28;01mas\u001b[39;00m handle:\n",
      "\u001b[36mFile \u001b[39m\u001b[32mc:\\Users\\adamd\\workspace\\Language-Model-Guided-Reinforcement-Learning-in-Quantitative-Trading\\utils\\data_utils.py:1619\u001b[39m, in \u001b[36mgenerate_strategy_for_ticker\u001b[39m\u001b[34m(ticker_df, ticker, LLM_OUTPUT_PATH, persona, HIGH_RISK_PROFILE, HIGH_OBJECTIVES, client, model, news_yaml_file, strategy_yaml_file, start_date, end_date, classification, time_horizon, max_news)\u001b[39m\n\u001b[32m   1609\u001b[39m     last_n_news = \u001b[38;5;28mlist\u001b[39m(\n\u001b[32m   1610\u001b[39m         \u001b[38;5;28mdict\u001b[39m.fromkeys(\n\u001b[32m   1611\u001b[39m             f\n\u001b[32m   (...)\u001b[39m\u001b[32m   1616\u001b[39m         )\n\u001b[32m   1617\u001b[39m     )\n\u001b[32m   1618\u001b[39m     \u001b[38;5;28;01mif\u001b[39;00m last_n_news:\n\u001b[32m-> \u001b[39m\u001b[32m1619\u001b[39m         news_results = \u001b[43mcall_openai_to_extract_news\u001b[49m\u001b[43m(\u001b[49m\n\u001b[32m   1620\u001b[39m \u001b[43m            \u001b[49m\u001b[43marticles\u001b[49m\u001b[43m=\u001b[49m\u001b[43mlast_n_news\u001b[49m\u001b[43m[\u001b[49m\u001b[43m-\u001b[49m\u001b[43mmax_news\u001b[49m\u001b[43m:\u001b[49m\u001b[43m]\u001b[49m\u001b[43m,\u001b[49m\n\u001b[32m   1621\u001b[39m \u001b[43m            \u001b[49m\u001b[43mnews_yml_file\u001b[49m\u001b[43m=\u001b[49m\u001b[43mnews_yaml_file\u001b[49m\u001b[43m,\u001b[49m\n\u001b[32m   1622\u001b[39m \u001b[43m            \u001b[49m\u001b[43mticker\u001b[49m\u001b[43m=\u001b[49m\u001b[43mticker\u001b[49m\u001b[43m,\u001b[49m\n\u001b[32m   1623\u001b[39m \u001b[43m            \u001b[49m\u001b[43mtarget_name\u001b[49m\u001b[43m=\u001b[49m\u001b[43mTICKER_COMPANY_NAME_MAP\u001b[49m\u001b[43m[\u001b[49m\u001b[43mticker\u001b[49m\u001b[43m]\u001b[49m\u001b[43m,\u001b[49m\n\u001b[32m   1624\u001b[39m \u001b[43m            \u001b[49m\u001b[43mdate\u001b[49m\u001b[43m=\u001b[49m\u001b[33;43mf\u001b[39;49m\u001b[33;43m\"\u001b[39;49m\u001b[38;5;132;43;01m{\u001b[39;49;00m\u001b[43mdate\u001b[49m\u001b[43m.\u001b[49m\u001b[43myear\u001b[49m\u001b[38;5;132;43;01m}\u001b[39;49;00m\u001b[33;43m-\u001b[39;49m\u001b[38;5;132;43;01m{\u001b[39;49;00m\u001b[43mdate\u001b[49m\u001b[43m.\u001b[49m\u001b[43mstrftime\u001b[49m\u001b[43m(\u001b[49m\u001b[33;43m'\u001b[39;49m\u001b[33;43m%\u001b[39;49m\u001b[33;43mm\u001b[39;49m\u001b[33;43m'\u001b[39;49m\u001b[43m)\u001b[49m\u001b[38;5;132;43;01m}\u001b[39;49;00m\u001b[33;43m\"\u001b[39;49m\u001b[43m,\u001b[49m\n\u001b[32m   1625\u001b[39m \u001b[43m            \u001b[49m\u001b[43mclient\u001b[49m\u001b[43m=\u001b[49m\u001b[43mclient\u001b[49m\u001b[43m,\u001b[49m\n\u001b[32m   1626\u001b[39m \u001b[43m            \u001b[49m\u001b[43mmodel\u001b[49m\u001b[43m=\u001b[49m\u001b[43mmodel\u001b[49m\u001b[43m,\u001b[49m\n\u001b[32m   1627\u001b[39m \u001b[43m            \u001b[49m\u001b[43mLLM_OUTPUT_PATH\u001b[49m\u001b[43m=\u001b[49m\u001b[38;5;28;43mstr\u001b[39;49m\u001b[43m(\u001b[49m\u001b[43mticker_output_path\u001b[49m\u001b[43m)\u001b[49m\u001b[43m,\u001b[49m\n\u001b[32m   1628\u001b[39m \u001b[43m        \u001b[49m\u001b[43m)\u001b[49m\n\u001b[32m   1630\u001b[39m strat_history = {\n\u001b[32m   1631\u001b[39m     \u001b[33m\"\u001b[39m\u001b[33mlast_strategy\u001b[39m\u001b[33m\"\u001b[39m: previous_strategy[\u001b[33m\"\u001b[39m\u001b[33mexplanation\u001b[39m\u001b[33m\"\u001b[39m] \u001b[38;5;28;01mif\u001b[39;00m previous_strategy \u001b[38;5;28;01melse\u001b[39;00m \u001b[38;5;28;01mNone\u001b[39;00m,\n\u001b[32m   1632\u001b[39m     \u001b[33m\"\u001b[39m\u001b[33mlast_action\u001b[39m\u001b[33m\"\u001b[39m: previous_strategy[\u001b[33m\"\u001b[39m\u001b[33maction\u001b[39m\u001b[33m\"\u001b[39m] \u001b[38;5;28;01mif\u001b[39;00m previous_strategy \u001b[38;5;28;01melse\u001b[39;00m \u001b[38;5;28;01mNone\u001b[39;00m,\n\u001b[32m   (...)\u001b[39m\u001b[32m   1638\u001b[39m     \u001b[33m\"\u001b[39m\u001b[33mlast_action_confidence\u001b[39m\u001b[33m\"\u001b[39m: previous_strategy[\u001b[33m\"\u001b[39m\u001b[33mtrade_signal\u001b[39m\u001b[33m\"\u001b[39m] \u001b[38;5;28;01mif\u001b[39;00m previous_strategy \u001b[38;5;28;01melse\u001b[39;00m \u001b[38;5;28;01mNone\u001b[39;00m,\n\u001b[32m   1639\u001b[39m }\n\u001b[32m   1641\u001b[39m context = update_historical_data_context(\n\u001b[32m   1642\u001b[39m     engineered_df=context_row,\n\u001b[32m   1643\u001b[39m     persona=persona,\n\u001b[32m   (...)\u001b[39m\u001b[32m   1655\u001b[39m     news_factors=news_results[\u001b[33m\"\u001b[39m\u001b[33mresponse\u001b[39m\u001b[33m\"\u001b[39m] \u001b[38;5;28;01mif\u001b[39;00m news_results \u001b[38;5;28;01melse\u001b[39;00m \u001b[38;5;28;01mNone\u001b[39;00m,\n\u001b[32m   1656\u001b[39m )\n",
      "\u001b[36mFile \u001b[39m\u001b[32mc:\\Users\\adamd\\workspace\\Language-Model-Guided-Reinforcement-Learning-in-Quantitative-Trading\\.venv\\Lib\\site-packages\\backoff\\_sync.py:127\u001b[39m, in \u001b[36mretry_exception.<locals>.retry\u001b[39m\u001b[34m(*args, **kwargs)\u001b[39m\n\u001b[32m    122\u001b[39m         \u001b[38;5;28;01mraise\u001b[39;00m e\n\u001b[32m    124\u001b[39m     _call_handlers(on_backoff, **details, wait=seconds,\n\u001b[32m    125\u001b[39m                    exception=e)\n\u001b[32m--> \u001b[39m\u001b[32m127\u001b[39m     \u001b[43mtime\u001b[49m\u001b[43m.\u001b[49m\u001b[43msleep\u001b[49m\u001b[43m(\u001b[49m\u001b[43mseconds\u001b[49m\u001b[43m)\u001b[49m\n\u001b[32m    128\u001b[39m \u001b[38;5;28;01melse\u001b[39;00m:\n\u001b[32m    129\u001b[39m     _call_handlers(on_success, **details)\n",
      "\u001b[31mKeyboardInterrupt\u001b[39m: "
     ]
    }
   ],
   "source": [
    "TARGET = \"TSLA\"\n",
    "engineered_df = load_stock_data(TARGET)\n",
    "llm_trading_metrics, llm_trades_df = run_llm_trade_experiment(\n",
    "    ticker_df=engineered_df,\n",
    "    ticker=TARGET,\n",
    "    prompt_version=\"v4\",\n",
    "    news_yaml_file=\"analyst_prompt_v1.yml\",\n",
    "    start_date=STARTDATE,\n",
    "    end_date=ENDDATE,\n",
    "    risk_version=\"r\",\n",
    "    model=OPENAI_MODEL,\n",
    ")\n",
    "llm_trading_metrics"
   ]
  },
  {
   "cell_type": "code",
   "execution_count": null,
   "metadata": {},
   "outputs": [],
   "source": [
    "TICKERS = [\"AAPL\", \"MSFT\", \"GOOGL\", \"TSLA\", \"AMZN\", \"META\"]"
   ]
  },
  {
   "cell_type": "markdown",
   "metadata": {},
   "source": [
    "## Prompt V1"
   ]
  },
  {
   "cell_type": "code",
   "execution_count": null,
   "metadata": {},
   "outputs": [],
   "source": [
    "for risk in [\"r\", \"nr\"]:\n",
    "    for ticker in tqdm(TICKERS):\n",
    "        engineered_df = load_stock_data(ticker)\n",
    "        llm_trading_metrics, llm_trades_df = run_llm_trade_experiment(\n",
    "            ticker_df=engineered_df, ticker=ticker, prompt_version=\"v1\", risk_version=risk, plot=False\n",
    "        )\n"
   ]
  },
  {
   "cell_type": "markdown",
   "metadata": {},
   "source": [
    "## Prompt V2"
   ]
  },
  {
   "cell_type": "code",
   "execution_count": null,
   "metadata": {},
   "outputs": [],
   "source": [
    "for risk in [\"r\", \"nr\"]:\n",
    "    for ticker in tqdm(TICKERS):\n",
    "        engineered_df = load_stock_data(ticker)\n",
    "        llm_trading_metrics, llm_trades_df = run_llm_trade_experiment(\n",
    "            ticker_df=engineered_df, ticker=ticker, prompt_version=\"v2\", risk_version=risk, plot=False\n",
    "        )\n"
   ]
  },
  {
   "cell_type": "markdown",
   "metadata": {},
   "source": [
    "## Prompt V3"
   ]
  },
  {
   "cell_type": "code",
   "execution_count": null,
   "metadata": {},
   "outputs": [],
   "source": [
    "for risk in [\"r\", \"nr\"]:\n",
    "    for ticker in tqdm(TICKERS):\n",
    "        engineered_df = load_stock_data(ticker)\n",
    "        llm_trading_metrics, llm_trades_df = run_llm_trade_experiment(\n",
    "            ticker_df=engineered_df, ticker=ticker, prompt_version=\"v3\", risk_version=risk, plot=False\n",
    "        )\n"
   ]
  },
  {
   "cell_type": "markdown",
   "metadata": {},
   "source": [
    "## Prompt V4"
   ]
  },
  {
   "cell_type": "code",
   "execution_count": null,
   "metadata": {},
   "outputs": [],
   "source": [
    "for risk in [\"r\", \"nr\"]:\n",
    "    for ticker in tqdm(TICKERS):\n",
    "        engineered_df = load_stock_data(ticker)\n",
    "        llm_trading_metrics, llm_trades_df = run_llm_trade_experiment(\n",
    "            ticker_df=engineered_df,\n",
    "            ticker=ticker,\n",
    "            prompt_version=\"v4\",\n",
    "            news_yaml_file=\"analyst_prompt_v1.yml\",\n",
    "            risk_version=risk,\n",
    "            plot=False,\n",
    "        )"
   ]
  },
  {
   "cell_type": "markdown",
   "metadata": {},
   "source": [
    "# Aggregate and Analyze All Results"
   ]
  },
  {
   "cell_type": "code",
   "execution_count": null,
   "metadata": {},
   "outputs": [],
   "source": [
    "risk_profiles = [\"r\", \"nr\"]\n",
    "prompt_versions = [\"v1\", \"v2\", \"v3\", \"v4\"]\n",
    "data = []\n",
    "\n",
    "results_root = LLM_OUTPUT_PATH / \"results\"\n",
    "\n",
    "for risk_profile in risk_profiles:\n",
    "    for version in prompt_versions:\n",
    "        for ticker in TICKERS:\n",
    "            folder_path = results_root / risk_profile / version / ticker\n",
    "            json_file_path = folder_path / \"llm_results.json\"\n",
    "\n",
    "            if json_file_path.exists():\n",
    "                results = json.loads(json_file_path.read_text(encoding=\"utf-8\"))\n",
    "                results[\"Risk Profile\"] = \"High Risk\" if risk_profile == \"r\" else \"Low Risk\"\n",
    "                results[\"Prompt Version\"] = version\n",
    "                results[\"Ticker\"] = ticker\n",
    "                data.append(results)\n",
    "\n",
    "results_df = pd.DataFrame(data)\n",
    "results_df.tail(1)"
   ]
  },
  {
   "cell_type": "code",
   "execution_count": null,
   "metadata": {},
   "outputs": [],
   "source": [
    "from pprint import pprint\n",
    "\n",
    "\n",
    "pivot_table = results_df[results_df[\"Risk Profile\"] == \"High Risk\"].pivot_table(\n",
    "    values=[\"Sharpe Ratio (Annualized SR)\", \"Mean Perplexity\", \"Mean Entropy\", \"Maximum Drawdown (MDD)\"],\n",
    "    index=\"Ticker\",\n",
    "    columns=\"Prompt Version\",\n",
    "    aggfunc=\"mean\",\n",
    ")\n",
    "\n",
    "pivot_table = pivot_table.sort_index(axis=1, level=1)\n",
    "pprint(pivot_table)"
   ]
  },
  {
   "cell_type": "code",
   "execution_count": null,
   "metadata": {},
   "outputs": [],
   "source": [
    "summary = (\n",
    "    results_df[results_df[\"Risk Profile\"] == \"High Risk\"]\n",
    "    .groupby(\"Prompt Version\")[[\"Sharpe Ratio (Annualized SR)\", \"Mean Perplexity\", \"Mean Entropy\", \"Maximum Drawdown (MDD)\"]]\n",
    "    .mean()\n",
    "    .sort_index()\n",
    ")\n",
    "\n",
    "print(summary)\n"
   ]
  },
  {
   "cell_type": "code",
   "execution_count": null,
   "metadata": {},
   "outputs": [],
   "source": [
    "pivot_table = results_df[results_df[\"Risk Profile\"] == \"Low Risk\"].pivot_table(\n",
    "    values=[\"Sharpe Ratio (Annualized SR)\", \"Mean Perplexity\", \"Mean Entropy\"], index=\"Ticker\", columns=\"Prompt Version\", aggfunc=\"mean\"\n",
    ")\n",
    "\n",
    "pivot_table = pivot_table.sort_index(axis=1, level=1)\n",
    "pprint(pivot_table)"
   ]
  },
  {
   "cell_type": "code",
   "execution_count": null,
   "metadata": {},
   "outputs": [],
   "source": [
    "summary = (\n",
    "    results_df[results_df[\"Risk Profile\"] == \"Low Risk\"]\n",
    "    .groupby(\"Prompt Version\")[[\"Sharpe Ratio (Annualized SR)\", \"Mean Perplexity\", \"Mean Entropy\"]]\n",
    "    .mean()\n",
    "    .sort_index()\n",
    ")\n",
    "\n",
    "print(summary)\n"
   ]
  }
 ],
 "metadata": {
  "kaggle": {
   "accelerator": "gpu",
   "dataSources": [
    {
     "datasetId": 5722911,
     "sourceId": 9421991,
     "sourceType": "datasetVersion"
    },
    {
     "sourceId": 197612253,
     "sourceType": "kernelVersion"
    }
   ],
   "dockerImageVersionId": 30762,
   "isGpuEnabled": true,
   "isInternetEnabled": true,
   "language": "python",
   "sourceType": "notebook"
  },
  "kernelspec": {
   "display_name": ".venv",
   "language": "python",
   "name": "python3"
  },
  "language_info": {
   "codemirror_mode": {
    "name": "ipython",
    "version": 3
   },
   "file_extension": ".py",
   "mimetype": "text/x-python",
   "name": "python",
   "nbconvert_exporter": "python",
   "pygments_lexer": "ipython3",
   "version": "3.12.12"
  },
  "papermill": {
   "default_parameters": {},
   "duration": 1234.187031,
   "end_time": "2024-09-17T20:07:16.406924",
   "environment_variables": {},
   "exception": null,
   "input_path": "__notebook__.ipynb",
   "output_path": "__notebook__.ipynb",
   "parameters": {},
   "start_time": "2024-09-17T19:46:42.219893",
   "version": "2.6.0"
  }
 },
 "nbformat": 4,
 "nbformat_minor": 4
}
